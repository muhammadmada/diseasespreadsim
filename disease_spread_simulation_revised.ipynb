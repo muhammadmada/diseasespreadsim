{
  "nbformat": 4,
  "nbformat_minor": 0,
  "metadata": {
    "colab": {
      "name": "disease-spread-simulation-revised.ipynb",
      "provenance": [],
      "collapsed_sections": [
        "Jf5gqPTZQtz1",
        "R-pTCA5583uD"
      ],
      "authorship_tag": "ABX9TyOsRp4A++BWw39b29hXm4/G",
      "include_colab_link": true
    },
    "kernelspec": {
      "name": "python3",
      "display_name": "Python 3"
    }
  },
  "cells": [
    {
      "cell_type": "markdown",
      "metadata": {
        "id": "view-in-github",
        "colab_type": "text"
      },
      "source": [
        "<a href=\"https://colab.research.google.com/github/muhammadmada/diseasespreadsim/blob/master/disease_spread_simulation_revised.ipynb\" target=\"_parent\"><img src=\"https://colab.research.google.com/assets/colab-badge.svg\" alt=\"Open In Colab\"/></a>"
      ]
    },
    {
      "cell_type": "markdown",
      "metadata": {
        "id": "3Ye7WDLyQmqP",
        "colab_type": "text"
      },
      "source": [
        "#Disease Spread Simulation Project\n",
        "**Pre-Alpha Proof of Concept Demo for VEKTORPROJEKT**\n",
        "\n",
        "This notebook is a pre-alpha demonstration for an interactive disease spread simulation with codename VEKTORPROJEKT. \n",
        "\n",
        "Updates will follow. "
      ]
    },
    {
      "cell_type": "markdown",
      "metadata": {
        "id": "07c1tSedU1dn",
        "colab_type": "text"
      },
      "source": [
        "###Initialization"
      ]
    },
    {
      "cell_type": "markdown",
      "metadata": {
        "id": "GvIerKmOU42M",
        "colab_type": "text"
      },
      "source": [
        "**Load modules and libraries**\n",
        "\n",
        "\n"
      ]
    },
    {
      "cell_type": "code",
      "metadata": {
        "id": "JtwG4dnXt2R5",
        "colab_type": "code",
        "colab": {
          "base_uri": "https://localhost:8080/",
          "height": 823
        },
        "outputId": "26d4afd7-bffd-4df8-e306-9d17ba347ade"
      },
      "source": [
        "from scipy.integrate import odeint\n",
        "import numpy as np\n",
        "import pandas as pd\n",
        "import matplotlib.pyplot as plt\n",
        "import matplotlib.animation as animation\n",
        "from IPython.display import HTML\n",
        "%matplotlib inline\n",
        "!pip install geopandas"
      ],
      "execution_count": 1,
      "outputs": [
        {
          "output_type": "error",
          "ename": "ModuleNotFoundError",
          "evalue": "No module named 'scipy'",
          "traceback": [
            "\u001b[1;31m---------------------------------------------------------------------------\u001b[0m",
            "\u001b[1;31mModuleNotFoundError\u001b[0m                       Traceback (most recent call last)",
            "\u001b[1;32m<ipython-input-1-ce1cd59edd50>\u001b[0m in \u001b[0;36m<module>\u001b[1;34m\u001b[0m\n\u001b[1;32m----> 1\u001b[1;33m \u001b[1;32mfrom\u001b[0m \u001b[0mscipy\u001b[0m\u001b[1;33m.\u001b[0m\u001b[0mintegrate\u001b[0m \u001b[1;32mimport\u001b[0m \u001b[0modeint\u001b[0m\u001b[1;33m\u001b[0m\u001b[1;33m\u001b[0m\u001b[0m\n\u001b[0m\u001b[0;32m      2\u001b[0m \u001b[1;32mimport\u001b[0m \u001b[0mnumpy\u001b[0m \u001b[1;32mas\u001b[0m \u001b[0mnp\u001b[0m\u001b[1;33m\u001b[0m\u001b[1;33m\u001b[0m\u001b[0m\n\u001b[0;32m      3\u001b[0m \u001b[1;32mimport\u001b[0m \u001b[0mpandas\u001b[0m \u001b[1;32mas\u001b[0m \u001b[0mpd\u001b[0m\u001b[1;33m\u001b[0m\u001b[1;33m\u001b[0m\u001b[0m\n\u001b[0;32m      4\u001b[0m \u001b[1;32mimport\u001b[0m \u001b[0mmatplotlib\u001b[0m\u001b[1;33m.\u001b[0m\u001b[0mpyplot\u001b[0m \u001b[1;32mas\u001b[0m \u001b[0mplt\u001b[0m\u001b[1;33m\u001b[0m\u001b[1;33m\u001b[0m\u001b[0m\n\u001b[0;32m      5\u001b[0m \u001b[1;32mimport\u001b[0m \u001b[0mmatplotlib\u001b[0m\u001b[1;33m.\u001b[0m\u001b[0manimation\u001b[0m \u001b[1;32mas\u001b[0m \u001b[0manimation\u001b[0m\u001b[1;33m\u001b[0m\u001b[1;33m\u001b[0m\u001b[0m\n",
            "\u001b[1;31mModuleNotFoundError\u001b[0m: No module named 'scipy'"
          ]
        }
      ]
    },
    {
      "cell_type": "markdown",
      "metadata": {
        "id": "jCaYSfc5dHME",
        "colab_type": "text"
      },
      "source": [
        "**Define matplotlib plotting**"
      ]
    },
    {
      "cell_type": "code",
      "metadata": {
        "id": "RhzF7_J3uMVW",
        "colab_type": "code",
        "colab": {}
      },
      "source": [
        "def modseirplot(t, S, Sq, E, Eq, I, H, R, L=None, D=None, R0=None, Alpha=None, CFR=None):\n",
        "  f, ax = plt.subplots(1,1, figsize=(10,4))\n",
        "  ax.plot(t, S, 'b', alpha=0.7, linewidth=2, label= 'Susceptible') #t=time; label/var;color/styling;transp#\n",
        "  ax.plot(t, Sq, 'b--', alpha=0.7, linewidth=2, label= 'Quarantined Susceptible')\n",
        "  ax.plot(t, E, 'y', alpha=0.7, linewidth=2, label= 'Exposed')\n",
        "  ax.plot(t, Eq, 'y--', alpha=0.7, linewidth=2, label= 'Quarantined Exposed')\n",
        "  ax.plot(t, I, 'r', alpha=0.7, linewidth=2, label= 'Infected')\n",
        "  ax.plot(t, H, 'g--', alpha=0.7, linewidth=2, label= 'Hospitalized')\n",
        "  ax.plot(t, R, 'g', alpha=0.7, linewidth=2, label= 'Recovered')\n",
        "  if D is not None:\n",
        "      ax.plot(t, D, 'k', alpha=0.7, linewidth=2, label='Dead')\n",
        "      ax.plot(t, S+Sq+E+Eq+I+H+R+D, 'c--', alpha=0.7, linewidth=2, label='Total')\n",
        "  else:\n",
        "       ax.plot(t, S+Sq+E+Eq+I+H+R+D, 'c--', alpha=0.7, linewidth=2, label='Total')\n",
        "    \n",
        "  ax.set_xlabel('Time (days)')\n",
        "  ax.yaxis.set_tick_params(length=0)\n",
        "  ax.xaxis.set_tick_params(length=0)\n",
        "  ax.grid(b=True, which='major', c='w', lw=2, ls='-')\n",
        "  legend = ax.legend(borderpad=2.0)\n",
        "  legend.get_frame().set_alpha(0.5)\n",
        "  for spine in ('top','right', 'bottom', 'left'):\n",
        "      ax.spines[spine].set_visible(False)\n",
        "  if L is not None:\n",
        "     plt.title(\"Lockdown after {} days\".format(L))\n",
        "  plt.show()\n",
        "  if R0 is not None or CFR is not None:\n",
        "   f = plt.figure(figsize=(12,4))\n",
        "  \n",
        "  if R0 is not None:\n",
        "    # sp1\n",
        "    ax1 = f.add_subplot(121)\n",
        "    ax1.plot(t, R0, 'b--', alpha=0.7, linewidth=2, label='R_0')\n",
        "\n",
        "    ax1.set_xlabel('Time (days)')\n",
        "    ax1.title.set_text('R_0 over time')\n",
        "    # ax.set_ylabel('Number (1000s)')\n",
        "    # ax.set_ylim(0,1.2)\n",
        "    ax1.yaxis.set_tick_params(length=0)\n",
        "    ax1.xaxis.set_tick_params(length=0)\n",
        "    ax1.grid(b=True, which='major', c='w', lw=2, ls='-')\n",
        "    legend = ax1.legend()\n",
        "    legend.get_frame().set_alpha(0.5)\n",
        "    for spine in ('top', 'right', 'bottom', 'left'):\n",
        "      ax.spines[spine].set_visible(False)\n",
        "\n",
        "  if Alpha is not None:\n",
        "    # sp2\n",
        "    ax2 = f.add_subplot(122)\n",
        "    ax2.plot(t, Alpha, 'r--', alpha=0.7, linewidth=2, label='alpha')\n",
        "\n",
        "    ax2.set_xlabel('Time (days)')\n",
        "    ax2.title.set_text('fatality rate over time')\n",
        "    # ax.set_ylabel('Number (1000s)')\n",
        "    # ax.set_ylim(0,1.2)\n",
        "    ax2.yaxis.set_tick_params(length=0)\n",
        "    ax2.xaxis.set_tick_params(length=0)\n",
        "    ax2.grid(b=True, which='major', c='w', lw=2, ls='-')\n",
        "    legend = ax2.legend()\n",
        "    legend.get_frame().set_alpha(0.5)\n",
        "    for spine in ('top', 'right', 'bottom', 'left'):\n",
        "      ax.spines[spine].set_visible(False)\n",
        "\n",
        "    plt.show();"
      ],
      "execution_count": null,
      "outputs": []
    },
    {
      "cell_type": "markdown",
      "metadata": {
        "id": "i0Aguzu3U5Tu",
        "colab_type": "text"
      },
      "source": [
        ""
      ]
    },
    {
      "cell_type": "markdown",
      "metadata": {
        "id": "xIqeW_lUU5Nk",
        "colab_type": "text"
      },
      "source": [
        "##Simulation Initialization"
      ]
    },
    {
      "cell_type": "markdown",
      "metadata": {
        "id": "LG5roJWNU5IL",
        "colab_type": "text"
      },
      "source": [
        "**Opening required files**"
      ]
    },
    {
      "cell_type": "code",
      "metadata": {
        "id": "4imEkXJj_dZY",
        "colab_type": "code",
        "colab": {
          "base_uri": "https://localhost:8080/",
          "height": 461
        },
        "outputId": "79e3b59e-b6a6-4905-915f-cc90cff46be6"
      },
      "source": [
        "#Opening necessary csv/json document\n",
        "cov_url= '' #githubsuercontent csv file\n",
        "covid_df = pd.read_csv(cov_url, index_col=0)\n",
        "pop_url = 'https://raw.githubusercontent.com/muhammadmada/diseasespreadsim/master/simulator/simParameter/Population.csv'#githubusercontent population csv file\n",
        "pop_df = pd.read_csv(pop_url, names = ['provinceName', 'populationNumber'])"
      ],
      "execution_count": null,
      "outputs": [
        {
          "output_type": "error",
          "ename": "FileNotFoundError",
          "evalue": "ignored",
          "traceback": [
            "\u001b[0;31m---------------------------------------------------------------------------\u001b[0m",
            "\u001b[0;31mFileNotFoundError\u001b[0m                         Traceback (most recent call last)",
            "\u001b[0;32m<ipython-input-3-b753157e6e06>\u001b[0m in \u001b[0;36m<module>\u001b[0;34m()\u001b[0m\n\u001b[1;32m      1\u001b[0m \u001b[0;31m#Opening necessary csv/json document\u001b[0m\u001b[0;34m\u001b[0m\u001b[0;34m\u001b[0m\u001b[0;34m\u001b[0m\u001b[0m\n\u001b[1;32m      2\u001b[0m \u001b[0mcov_url\u001b[0m\u001b[0;34m=\u001b[0m \u001b[0;34m' '\u001b[0m \u001b[0;31m#githubsuercontent csv file\u001b[0m\u001b[0;34m\u001b[0m\u001b[0;34m\u001b[0m\u001b[0m\n\u001b[0;32m----> 3\u001b[0;31m \u001b[0mcovid_df\u001b[0m \u001b[0;34m=\u001b[0m \u001b[0mpd\u001b[0m\u001b[0;34m.\u001b[0m\u001b[0mread_csv\u001b[0m\u001b[0;34m(\u001b[0m\u001b[0mcov_url\u001b[0m\u001b[0;34m,\u001b[0m \u001b[0mindex_col\u001b[0m\u001b[0;34m=\u001b[0m\u001b[0;36m0\u001b[0m\u001b[0;34m)\u001b[0m\u001b[0;34m\u001b[0m\u001b[0;34m\u001b[0m\u001b[0m\n\u001b[0m\u001b[1;32m      4\u001b[0m \u001b[0mpop_url\u001b[0m \u001b[0;34m=\u001b[0m \u001b[0;34m' '\u001b[0m\u001b[0;31m#githubusercontent csv file\u001b[0m\u001b[0;34m\u001b[0m\u001b[0;34m\u001b[0m\u001b[0m\n\u001b[1;32m      5\u001b[0m \u001b[0mpop_df\u001b[0m \u001b[0;34m=\u001b[0m \u001b[0mpd\u001b[0m\u001b[0;34m.\u001b[0m\u001b[0mread_csv\u001b[0m\u001b[0;34m(\u001b[0m\u001b[0mpop_url\u001b[0m\u001b[0;34m,\u001b[0m \u001b[0mindex_col\u001b[0m\u001b[0;34m=\u001b[0m\u001b[0;36m0\u001b[0m\u001b[0;34m)\u001b[0m\u001b[0;34m\u001b[0m\u001b[0;34m\u001b[0m\u001b[0m\n",
            "\u001b[0;32m/usr/local/lib/python3.6/dist-packages/pandas/io/parsers.py\u001b[0m in \u001b[0;36mparser_f\u001b[0;34m(filepath_or_buffer, sep, delimiter, header, names, index_col, usecols, squeeze, prefix, mangle_dupe_cols, dtype, engine, converters, true_values, false_values, skipinitialspace, skiprows, skipfooter, nrows, na_values, keep_default_na, na_filter, verbose, skip_blank_lines, parse_dates, infer_datetime_format, keep_date_col, date_parser, dayfirst, cache_dates, iterator, chunksize, compression, thousands, decimal, lineterminator, quotechar, quoting, doublequote, escapechar, comment, encoding, dialect, error_bad_lines, warn_bad_lines, delim_whitespace, low_memory, memory_map, float_precision)\u001b[0m\n\u001b[1;32m    674\u001b[0m         )\n\u001b[1;32m    675\u001b[0m \u001b[0;34m\u001b[0m\u001b[0m\n\u001b[0;32m--> 676\u001b[0;31m         \u001b[0;32mreturn\u001b[0m \u001b[0m_read\u001b[0m\u001b[0;34m(\u001b[0m\u001b[0mfilepath_or_buffer\u001b[0m\u001b[0;34m,\u001b[0m \u001b[0mkwds\u001b[0m\u001b[0;34m)\u001b[0m\u001b[0;34m\u001b[0m\u001b[0;34m\u001b[0m\u001b[0m\n\u001b[0m\u001b[1;32m    677\u001b[0m \u001b[0;34m\u001b[0m\u001b[0m\n\u001b[1;32m    678\u001b[0m     \u001b[0mparser_f\u001b[0m\u001b[0;34m.\u001b[0m\u001b[0m__name__\u001b[0m \u001b[0;34m=\u001b[0m \u001b[0mname\u001b[0m\u001b[0;34m\u001b[0m\u001b[0;34m\u001b[0m\u001b[0m\n",
            "\u001b[0;32m/usr/local/lib/python3.6/dist-packages/pandas/io/parsers.py\u001b[0m in \u001b[0;36m_read\u001b[0;34m(filepath_or_buffer, kwds)\u001b[0m\n\u001b[1;32m    446\u001b[0m \u001b[0;34m\u001b[0m\u001b[0m\n\u001b[1;32m    447\u001b[0m     \u001b[0;31m# Create the parser.\u001b[0m\u001b[0;34m\u001b[0m\u001b[0;34m\u001b[0m\u001b[0;34m\u001b[0m\u001b[0m\n\u001b[0;32m--> 448\u001b[0;31m     \u001b[0mparser\u001b[0m \u001b[0;34m=\u001b[0m \u001b[0mTextFileReader\u001b[0m\u001b[0;34m(\u001b[0m\u001b[0mfp_or_buf\u001b[0m\u001b[0;34m,\u001b[0m \u001b[0;34m**\u001b[0m\u001b[0mkwds\u001b[0m\u001b[0;34m)\u001b[0m\u001b[0;34m\u001b[0m\u001b[0;34m\u001b[0m\u001b[0m\n\u001b[0m\u001b[1;32m    449\u001b[0m \u001b[0;34m\u001b[0m\u001b[0m\n\u001b[1;32m    450\u001b[0m     \u001b[0;32mif\u001b[0m \u001b[0mchunksize\u001b[0m \u001b[0;32mor\u001b[0m \u001b[0miterator\u001b[0m\u001b[0;34m:\u001b[0m\u001b[0;34m\u001b[0m\u001b[0;34m\u001b[0m\u001b[0m\n",
            "\u001b[0;32m/usr/local/lib/python3.6/dist-packages/pandas/io/parsers.py\u001b[0m in \u001b[0;36m__init__\u001b[0;34m(self, f, engine, **kwds)\u001b[0m\n\u001b[1;32m    878\u001b[0m             \u001b[0mself\u001b[0m\u001b[0;34m.\u001b[0m\u001b[0moptions\u001b[0m\u001b[0;34m[\u001b[0m\u001b[0;34m\"has_index_names\"\u001b[0m\u001b[0;34m]\u001b[0m \u001b[0;34m=\u001b[0m \u001b[0mkwds\u001b[0m\u001b[0;34m[\u001b[0m\u001b[0;34m\"has_index_names\"\u001b[0m\u001b[0;34m]\u001b[0m\u001b[0;34m\u001b[0m\u001b[0;34m\u001b[0m\u001b[0m\n\u001b[1;32m    879\u001b[0m \u001b[0;34m\u001b[0m\u001b[0m\n\u001b[0;32m--> 880\u001b[0;31m         \u001b[0mself\u001b[0m\u001b[0;34m.\u001b[0m\u001b[0m_make_engine\u001b[0m\u001b[0;34m(\u001b[0m\u001b[0mself\u001b[0m\u001b[0;34m.\u001b[0m\u001b[0mengine\u001b[0m\u001b[0;34m)\u001b[0m\u001b[0;34m\u001b[0m\u001b[0;34m\u001b[0m\u001b[0m\n\u001b[0m\u001b[1;32m    881\u001b[0m \u001b[0;34m\u001b[0m\u001b[0m\n\u001b[1;32m    882\u001b[0m     \u001b[0;32mdef\u001b[0m \u001b[0mclose\u001b[0m\u001b[0;34m(\u001b[0m\u001b[0mself\u001b[0m\u001b[0;34m)\u001b[0m\u001b[0;34m:\u001b[0m\u001b[0;34m\u001b[0m\u001b[0;34m\u001b[0m\u001b[0m\n",
            "\u001b[0;32m/usr/local/lib/python3.6/dist-packages/pandas/io/parsers.py\u001b[0m in \u001b[0;36m_make_engine\u001b[0;34m(self, engine)\u001b[0m\n\u001b[1;32m   1112\u001b[0m     \u001b[0;32mdef\u001b[0m \u001b[0m_make_engine\u001b[0m\u001b[0;34m(\u001b[0m\u001b[0mself\u001b[0m\u001b[0;34m,\u001b[0m \u001b[0mengine\u001b[0m\u001b[0;34m=\u001b[0m\u001b[0;34m\"c\"\u001b[0m\u001b[0;34m)\u001b[0m\u001b[0;34m:\u001b[0m\u001b[0;34m\u001b[0m\u001b[0;34m\u001b[0m\u001b[0m\n\u001b[1;32m   1113\u001b[0m         \u001b[0;32mif\u001b[0m \u001b[0mengine\u001b[0m \u001b[0;34m==\u001b[0m \u001b[0;34m\"c\"\u001b[0m\u001b[0;34m:\u001b[0m\u001b[0;34m\u001b[0m\u001b[0;34m\u001b[0m\u001b[0m\n\u001b[0;32m-> 1114\u001b[0;31m             \u001b[0mself\u001b[0m\u001b[0;34m.\u001b[0m\u001b[0m_engine\u001b[0m \u001b[0;34m=\u001b[0m \u001b[0mCParserWrapper\u001b[0m\u001b[0;34m(\u001b[0m\u001b[0mself\u001b[0m\u001b[0;34m.\u001b[0m\u001b[0mf\u001b[0m\u001b[0;34m,\u001b[0m \u001b[0;34m**\u001b[0m\u001b[0mself\u001b[0m\u001b[0;34m.\u001b[0m\u001b[0moptions\u001b[0m\u001b[0;34m)\u001b[0m\u001b[0;34m\u001b[0m\u001b[0;34m\u001b[0m\u001b[0m\n\u001b[0m\u001b[1;32m   1115\u001b[0m         \u001b[0;32melse\u001b[0m\u001b[0;34m:\u001b[0m\u001b[0;34m\u001b[0m\u001b[0;34m\u001b[0m\u001b[0m\n\u001b[1;32m   1116\u001b[0m             \u001b[0;32mif\u001b[0m \u001b[0mengine\u001b[0m \u001b[0;34m==\u001b[0m \u001b[0;34m\"python\"\u001b[0m\u001b[0;34m:\u001b[0m\u001b[0;34m\u001b[0m\u001b[0;34m\u001b[0m\u001b[0m\n",
            "\u001b[0;32m/usr/local/lib/python3.6/dist-packages/pandas/io/parsers.py\u001b[0m in \u001b[0;36m__init__\u001b[0;34m(self, src, **kwds)\u001b[0m\n\u001b[1;32m   1889\u001b[0m         \u001b[0mkwds\u001b[0m\u001b[0;34m[\u001b[0m\u001b[0;34m\"usecols\"\u001b[0m\u001b[0;34m]\u001b[0m \u001b[0;34m=\u001b[0m \u001b[0mself\u001b[0m\u001b[0;34m.\u001b[0m\u001b[0musecols\u001b[0m\u001b[0;34m\u001b[0m\u001b[0;34m\u001b[0m\u001b[0m\n\u001b[1;32m   1890\u001b[0m \u001b[0;34m\u001b[0m\u001b[0m\n\u001b[0;32m-> 1891\u001b[0;31m         \u001b[0mself\u001b[0m\u001b[0;34m.\u001b[0m\u001b[0m_reader\u001b[0m \u001b[0;34m=\u001b[0m \u001b[0mparsers\u001b[0m\u001b[0;34m.\u001b[0m\u001b[0mTextReader\u001b[0m\u001b[0;34m(\u001b[0m\u001b[0msrc\u001b[0m\u001b[0;34m,\u001b[0m \u001b[0;34m**\u001b[0m\u001b[0mkwds\u001b[0m\u001b[0;34m)\u001b[0m\u001b[0;34m\u001b[0m\u001b[0;34m\u001b[0m\u001b[0m\n\u001b[0m\u001b[1;32m   1892\u001b[0m         \u001b[0mself\u001b[0m\u001b[0;34m.\u001b[0m\u001b[0munnamed_cols\u001b[0m \u001b[0;34m=\u001b[0m \u001b[0mself\u001b[0m\u001b[0;34m.\u001b[0m\u001b[0m_reader\u001b[0m\u001b[0;34m.\u001b[0m\u001b[0munnamed_cols\u001b[0m\u001b[0;34m\u001b[0m\u001b[0;34m\u001b[0m\u001b[0m\n\u001b[1;32m   1893\u001b[0m \u001b[0;34m\u001b[0m\u001b[0m\n",
            "\u001b[0;32mpandas/_libs/parsers.pyx\u001b[0m in \u001b[0;36mpandas._libs.parsers.TextReader.__cinit__\u001b[0;34m()\u001b[0m\n",
            "\u001b[0;32mpandas/_libs/parsers.pyx\u001b[0m in \u001b[0;36mpandas._libs.parsers.TextReader._setup_parser_source\u001b[0;34m()\u001b[0m\n",
            "\u001b[0;31mFileNotFoundError\u001b[0m: [Errno 2] File   does not exist: ' '"
          ]
        }
      ]
    },
    {
      "cell_type": "markdown",
      "metadata": {
        "id": "NL2DDTh7zw1Y",
        "colab_type": "text"
      },
      "source": [
        "**Loading general simulation equation**"
      ]
    },
    {
      "cell_type": "code",
      "metadata": {
        "id": "C9kTB0T7ud-u",
        "colab_type": "code",
        "colab": {}
      },
      "source": [
        "#Defining derivative equation part\n",
        "def deriv(y, t, N, Beta, DeltaI, DeltaQ, GammaI, GammaH):\n",
        "    S, Sq, E, Eq, I, H, R, D = y\n",
        "    dSdt = int(-(Beta*c + c*q*(1-Beta)*S*(I+Theta+E)+ Lambda*Sq))\n",
        "    dSqdt = int((1-Beta)*c*q*S*(I+Theta*E)-Lambda*Sq)\n",
        "    dEdt = int(Beta*c*(1-q)*S*(I+Theta*E)-Sigma*E)\n",
        "    dEqdt = int(Beta*c*q*S*(I+Theta*E)-DeltaQ*Eq)\n",
        "    dIdt = int(Sigma*E-(deltaI+Alpha+GammaI)*I)\n",
        "    dHdt = int(deltaI*I+DeltaQ*Eq-(Alpha+GammaH)*H)\n",
        "    dRdt = int(GammaI*I+GammaH*H)\n",
        "    dDdt = Alpha*(I+H)\n",
        "    return dSdt, dSqdt, dEdt, dEqdt, dIdt, dHdt, dRdt, dDdt\n",
        "#Model params and data, open disease factors and data from csv files)\n",
        "c = float(3.6)\n",
        "Beta = (6.93*10**-11) #Equals to R_0*GammaI\n",
        "Gamma = int(1) #Refers to plain Gamma from disease, distributed to derivative Gammas\n",
        "Inf =  123#Infection period(Days)\n",
        "Inc = 2141#Incubation period(Days)\n",
        "DeltaI = float(0.13) #1/days of infection, infected\n",
        "DeltaQ = float(0.13) #1/days of infection, quarantined\n",
        "GammaI = float(0.003) #1/days of incubation, infected\n",
        "GammaH = float(0.009) #1/days of incubation, hospitalized\n",
        "Q = float(9*10**-7) #Quarantine ratio\n",
        "Alpha = float(0.0001) #Death rate\n",
        "Theta = float(0.6) #Ratio of transmission\n",
        "Lambda = float(1/14) #1/quarantine days\n",
        "T = float(40) #Simulation timespan, maybe add progressing time function with starting date\n",
        "t = float(0.1) \n",
        "NN = float(T/t) \n",
        "N = pop_df(['POPULATION'])\n",
        "L = 133 # Lockdown period (Days), may add date implemented + date lifted function\n"
      ],
      "execution_count": null,
      "outputs": []
    },
    {
      "cell_type": "markdown",
      "metadata": {
        "id": "cpafxPaItAHH",
        "colab_type": "text"
      },
      "source": [
        "**Regional spreading simulation**"
      ]
    },
    {
      "cell_type": "code",
      "metadata": {
        "id": "rOImqFBCzt5c",
        "colab_type": "code",
        "colab": {}
      },
      "source": [
        "travelRatioAir = pop_df(['A_TP_FACTOR'])\n",
        "travelRatioLand = pop_df(['L_TP_FACTOR'])\n",
        "def regionalAirSpread():\n",
        "  if lockdown == 1:\n",
        "    (Theta*Lambda*N*((travelRatioAir/I))\n",
        "  else lockdown == 0:\n",
        "    (Theta*Lambda*N*travelRatioAir)\n",
        "  def regionalLandSpread():\n",
        "    if lockdown == 1:\n",
        "      (Theta*Lambda*N*(travelRatioLand/I))\n",
        "    else lockdown == 0:\n",
        "      (Theta*Lambda*N*travelRatioAir)"
      ],
      "execution_count": null,
      "outputs": []
    },
    {
      "cell_type": "markdown",
      "metadata": {
        "id": "6ebnuaHZcuhm",
        "colab_type": "text"
      },
      "source": [
        "**Combine both simulation**"
      ]
    },
    {
      "cell_type": "code",
      "metadata": {
        "id": "-oEEFLbpcyeV",
        "colab_type": "code",
        "colab": {}
      },
      "source": [
        ""
      ],
      "execution_count": null,
      "outputs": []
    },
    {
      "cell_type": "markdown",
      "metadata": {
        "id": "rMDgHTkAtAez",
        "colab_type": "text"
      },
      "source": [
        "###Mapping Initialization"
      ]
    },
    {
      "cell_type": "markdown",
      "metadata": {
        "id": "L-9jZ2V2U5CP",
        "colab_type": "text"
      },
      "source": [
        "**Load mapping files, libraries, and modules**"
      ]
    },
    {
      "cell_type": "code",
      "metadata": {
        "id": "byNP5wXJzr12",
        "colab_type": "code",
        "colab": {
          "base_uri": "https://localhost:8080/",
          "height": 437
        },
        "outputId": "da4704af-c49c-4c6d-c2f6-f20ec9d4bac1"
      },
      "source": [
        "import geopandas as gpd\n",
        "!pip install bokeh\n",
        "from bokeh.io import output_notebook, show, output_file\n",
        "from bokeh.plotting import figure, output_file, show\n",
        "from bokeh.models import GeoJSONDataSource, LinearColorMapper, ColorBar\n",
        "from bokeh.models.tools import HoverTool\n",
        "\n",
        "url = \"https://raw.githubusercontent.com/muhammadmada/diseasespreadsim/master/simulator/simParameter/Indonesia_provinces.geojson\"\n",
        "basicMap = gpd.read_file(url)\n",
        "basicMap.head()\n"
      ],
      "execution_count": null,
      "outputs": [
        {
          "output_type": "stream",
          "text": [
            "Requirement already satisfied: bokeh in /usr/local/lib/python3.6/dist-packages (2.1.1)\n",
            "Requirement already satisfied: numpy>=1.11.3 in /usr/local/lib/python3.6/dist-packages (from bokeh) (1.18.5)\n",
            "Requirement already satisfied: tornado>=5.1 in /usr/local/lib/python3.6/dist-packages (from bokeh) (5.1.1)\n",
            "Requirement already satisfied: typing-extensions>=3.7.4 in /usr/local/lib/python3.6/dist-packages (from bokeh) (3.7.4.3)\n",
            "Requirement already satisfied: python-dateutil>=2.1 in /usr/local/lib/python3.6/dist-packages (from bokeh) (2.8.1)\n",
            "Requirement already satisfied: PyYAML>=3.10 in /usr/local/lib/python3.6/dist-packages (from bokeh) (3.13)\n",
            "Requirement already satisfied: packaging>=16.8 in /usr/local/lib/python3.6/dist-packages (from bokeh) (20.4)\n",
            "Requirement already satisfied: Jinja2>=2.7 in /usr/local/lib/python3.6/dist-packages (from bokeh) (2.11.2)\n",
            "Requirement already satisfied: pillow>=4.0 in /usr/local/lib/python3.6/dist-packages (from bokeh) (7.0.0)\n",
            "Requirement already satisfied: six>=1.5 in /usr/local/lib/python3.6/dist-packages (from python-dateutil>=2.1->bokeh) (1.15.0)\n",
            "Requirement already satisfied: pyparsing>=2.0.2 in /usr/local/lib/python3.6/dist-packages (from packaging>=16.8->bokeh) (2.4.7)\n",
            "Requirement already satisfied: MarkupSafe>=0.23 in /usr/local/lib/python3.6/dist-packages (from Jinja2>=2.7->bokeh) (1.1.1)\n"
          ],
          "name": "stdout"
        },
        {
          "output_type": "error",
          "ename": "NameError",
          "evalue": "ignored",
          "traceback": [
            "\u001b[0;31m---------------------------------------------------------------------------\u001b[0m",
            "\u001b[0;31mNameError\u001b[0m                                 Traceback (most recent call last)",
            "\u001b[0;32m<ipython-input-1-c4d1c28a1aab>\u001b[0m in \u001b[0;36m<module>\u001b[0;34m()\u001b[0m\n\u001b[1;32m      6\u001b[0m \u001b[0;34m\u001b[0m\u001b[0m\n\u001b[1;32m      7\u001b[0m \u001b[0murl\u001b[0m \u001b[0;34m=\u001b[0m \u001b[0;34m\"https://raw.githubusercontent.com/muhammadmada/diseasespreadsim/master/simulator/simParameter/Indonesia_provinces.geojson\"\u001b[0m\u001b[0;34m\u001b[0m\u001b[0;34m\u001b[0m\u001b[0m\n\u001b[0;32m----> 8\u001b[0;31m \u001b[0mbasicMap\u001b[0m \u001b[0;34m=\u001b[0m \u001b[0mgpd\u001b[0m\u001b[0;34m.\u001b[0m\u001b[0mread_file\u001b[0m\u001b[0;34m(\u001b[0m\u001b[0murl\u001b[0m\u001b[0;34m)\u001b[0m\u001b[0;34m\u001b[0m\u001b[0;34m\u001b[0m\u001b[0m\n\u001b[0m\u001b[1;32m      9\u001b[0m \u001b[0mbasicMap\u001b[0m\u001b[0;34m.\u001b[0m\u001b[0mhead\u001b[0m\u001b[0;34m(\u001b[0m\u001b[0;34m)\u001b[0m\u001b[0;34m\u001b[0m\u001b[0;34m\u001b[0m\u001b[0m\n",
            "\u001b[0;31mNameError\u001b[0m: name 'gpd' is not defined"
          ]
        }
      ]
    },
    {
      "cell_type": "markdown",
      "metadata": {
        "id": "riR66sdktAql",
        "colab_type": "text"
      },
      "source": [
        "**Define mapping and map overlay function**"
      ]
    },
    {
      "cell_type": "code",
      "metadata": {
        "id": "bVm_Ko1HzsYb",
        "colab_type": "code",
        "colab": {}
      },
      "source": [
        ""
      ],
      "execution_count": null,
      "outputs": []
    },
    {
      "cell_type": "markdown",
      "metadata": {
        "id": "6Xgo-tCYU49k",
        "colab_type": "text"
      },
      "source": [
        "###Data Plotting (Graph)"
      ]
    },
    {
      "cell_type": "markdown",
      "metadata": {
        "id": "fWFzLL0zPZaE",
        "colab_type": "text"
      },
      "source": [
        "**Load additional plotting libraries** "
      ]
    },
    {
      "cell_type": "code",
      "metadata": {
        "id": "Hsieo3C8ROPO",
        "colab_type": "code",
        "colab": {}
      },
      "source": [
        "import plotly\n",
        "import numpy as np\n",
        "from plotly.offline import init_notebook_mode, iplot"
      ],
      "execution_count": null,
      "outputs": []
    },
    {
      "cell_type": "markdown",
      "metadata": {
        "id": "3twJca1xtAlm",
        "colab_type": "text"
      },
      "source": [
        "##Simulation Generation"
      ]
    },
    {
      "cell_type": "markdown",
      "metadata": {
        "id": "r7U-VFRNtRt6",
        "colab_type": "text"
      },
      "source": [
        "**Generating simulation CSV files**"
      ]
    },
    {
      "cell_type": "code",
      "metadata": {
        "id": "CLViRJ5Szpmo",
        "colab_type": "code",
        "colab": {}
      },
      "source": [
        ""
      ],
      "execution_count": null,
      "outputs": []
    },
    {
      "cell_type": "markdown",
      "metadata": {
        "id": "F_12CTa0tSAX",
        "colab_type": "text"
      },
      "source": [
        "**Generating animated and mapping simulation**"
      ]
    },
    {
      "cell_type": "code",
      "execution_count": null,
      "metadata": {},
      "outputs": [],
      "source": []
    }
  ]
}